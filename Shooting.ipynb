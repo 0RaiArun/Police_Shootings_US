{
 "cells": [
  {
   "cell_type": "code",
   "execution_count": null,
   "metadata": {
    "colab": {
     "base_uri": "https://localhost:8080/",
     "height": 255
    },
    "id": "-K93hoRcoNfN",
    "outputId": "0f0bf53f-e663-425f-b11a-e18f1fb3882a"
   },
   "outputs": [
    {
     "name": "stdout",
     "output_type": "stream",
     "text": [
      "\r",
      "0% [Working]\r",
      "            \r",
      "Hit:1 http://security.ubuntu.com/ubuntu bionic-security InRelease\n",
      "\r",
      "0% [Connecting to archive.ubuntu.com (91.189.88.152)] [Waiting for headers] [Co\r",
      "                                                                               \r",
      "Hit:2 https://cloud.r-project.org/bin/linux/ubuntu bionic-cran40/ InRelease\n",
      "\r",
      "0% [Connecting to archive.ubuntu.com (91.189.88.152)] [Connecting to ppa.launch\r",
      "0% [1 InRelease gpgv 88.7 kB] [Connecting to archive.ubuntu.com (91.189.88.152)\r",
      "                                                                               \r",
      "Ign:3 https://developer.download.nvidia.com/compute/cuda/repos/ubuntu1804/x86_64  InRelease\n",
      "\r",
      "0% [1 InRelease gpgv 88.7 kB] [Connecting to archive.ubuntu.com (91.189.88.152)\r",
      "                                                                               \r",
      "Ign:4 https://developer.download.nvidia.com/compute/machine-learning/repos/ubuntu1804/x86_64  InRelease\n",
      "\r",
      "0% [1 InRelease gpgv 88.7 kB] [Waiting for headers] [Connecting to ppa.launchpa\r",
      "                                                                               \r",
      "Hit:5 https://developer.download.nvidia.com/compute/cuda/repos/ubuntu1804/x86_64  Release\n",
      "\r",
      "0% [1 InRelease gpgv 88.7 kB] [Waiting for headers] [Connecting to ppa.launchpa\r",
      "                                                                               \r",
      "Hit:6 https://developer.download.nvidia.com/compute/machine-learning/repos/ubuntu1804/x86_64  Release\n",
      "Hit:7 http://archive.ubuntu.com/ubuntu bionic InRelease\n",
      "Hit:8 http://archive.ubuntu.com/ubuntu bionic-updates InRelease\n",
      "Hit:9 http://ppa.launchpad.net/c2d4u.team/c2d4u4.0+/ubuntu bionic InRelease\n",
      "Hit:10 http://archive.ubuntu.com/ubuntu bionic-backports InRelease\n",
      "Hit:11 http://ppa.launchpad.net/graphics-drivers/ppa/ubuntu bionic InRelease\n",
      "Reading package lists... Done\n",
      "Requirement already satisfied: pyspark==2.4.7 in /usr/local/lib/python3.6/dist-packages (2.4.7)\n",
      "Requirement already satisfied: py4j==0.10.7 in /usr/local/lib/python3.6/dist-packages (from pyspark==2.4.7) (0.10.7)\n"
     ]
    }
   ],
   "source": [
    "# Installing Java and spark \n",
    "!apt-get update\n",
    "!apt-get install openjdk-8-jdk-headless -qq > /dev/null\n",
    "!wget -q https://downloads.apache.org/spark/spark-2.4.7/spark-2.4.7-bin-hadoop2.7.tgz\n",
    "!tar xf spark-2.4.7-bin-hadoop2.7.tgz\n",
    "!pip install pyspark==2.4.7\n",
    "\n",
    "import os\n",
    "os.environ[\"JAVA_HOME\"] = \"/usr/lib/jvm/java-8-openjdk-amd64\"\n",
    "os.environ[\"SPARK_HOME\"] = \"/content/spark-2.4.7-bin-hadoop2.7\"\n"
   ]
  },
  {
   "cell_type": "code",
   "execution_count": null,
   "metadata": {
    "colab": {
     "base_uri": "https://localhost:8080/",
     "height": 34
    },
    "id": "sPj4HsHVoZW9",
    "outputId": "c94228ec-14a1-4591-c7d1-8371f2d0b9b2"
   },
   "outputs": [
    {
     "name": "stdout",
     "output_type": "stream",
     "text": [
      "Drive already mounted at /content/gdrive; to attempt to forcibly remount, call drive.mount(\"/content/gdrive\", force_remount=True).\n"
     ]
    }
   ],
   "source": [
    "# Mount the cloud folder for data file storage\n",
    "from google.colab import drive\n",
    "drive.mount('/content/gdrive')\n",
    "\n"
   ]
  },
  {
   "cell_type": "code",
   "execution_count": null,
   "metadata": {
    "id": "cdrJsluMo_es"
   },
   "outputs": [],
   "source": [
    "# path to csv file\n",
    "csvFile_path = \"/content/gdrive/My Drive/Colab Notebooks/shootings.csv\""
   ]
  },
  {
   "cell_type": "code",
   "execution_count": null,
   "metadata": {
    "id": "sOvSTTyJpTQ3"
   },
   "outputs": [],
   "source": [
    "from pyspark import SparkContext\n",
    "sc = SparkContext(\"local\", \"First App\")"
   ]
  },
  {
   "cell_type": "code",
   "execution_count": null,
   "metadata": {
    "id": "WKlNCPFJpcVB"
   },
   "outputs": [],
   "source": [
    "from pyspark.sql import SQLContext\n",
    "sqlContext = SQLContext(sc)"
   ]
  },
  {
   "cell_type": "code",
   "execution_count": null,
   "metadata": {
    "id": "1UJ0xa3Crj44"
   },
   "outputs": [],
   "source": [
    "# Libraries\n",
    "from pyspark.ml import Pipeline\n",
    "from pyspark.ml.feature import StringIndexer, MinMaxScaler, VectorAssembler\n",
    "\n",
    "from pyspark.ml.recommendation import ALS\n",
    "from pyspark.ml.evaluation import RegressionEvaluator\n",
    "\n",
    "from pyspark.ml.classification import LogisticRegression\n",
    "from pyspark.ml.evaluation import MulticlassClassificationEvaluator\n"
   ]
  },
  {
   "cell_type": "code",
   "execution_count": null,
   "metadata": {
    "id": "lDy6LQk3qLu7"
   },
   "outputs": [],
   "source": [
    "df = sqlContext.read.csv(csvFile_path , header = True)"
   ]
  },
  {
   "cell_type": "code",
   "execution_count": null,
   "metadata": {
    "id": "LUnFxttLqRz9"
   },
   "outputs": [],
   "source": [
    "df.printSchema()\n",
    "df.show(5)"
   ]
  },
  {
   "cell_type": "code",
   "execution_count": null,
   "metadata": {
    "id": "kz91zReOYQwf"
   },
   "outputs": [],
   "source": [
    "recsys_df = df.select(['manner_of_death', 'armed', 'age', 'gender', 'race', 'state', 'signs_of_mental_illness', 'threat_level', 'flee', 'body_camera', 'arms_category'])"
   ]
  },
  {
   "cell_type": "code",
   "execution_count": null,
   "metadata": {
    "colab": {
     "base_uri": "https://localhost:8080/",
     "height": 204
    },
    "id": "UD_ZcoYiIJ5l",
    "outputId": "dd492836-372b-49ab-bd5b-18179a111ef9"
   },
   "outputs": [
    {
     "name": "stdout",
     "output_type": "stream",
     "text": [
      "+----------------+----------+----+------+--------+-----+-----------------------+------------+-----------+-----------+--------------------+\n",
      "| manner_of_death|     armed| age|gender|    race|state|signs_of_mental_illness|threat_level|       flee|body_camera|       arms_category|\n",
      "+----------------+----------+----+------+--------+-----+-----------------------+------------+-----------+-----------+--------------------+\n",
      "|            shot|       gun|53.0|     M|   Asian|   WA|                   True|      attack|Not fleeing|      False|                Guns|\n",
      "|            shot|       gun|47.0|     M|   White|   OR|                  False|      attack|Not fleeing|      False|                Guns|\n",
      "|shot and Tasered|   unarmed|23.0|     M|Hispanic|   KS|                  False|       other|Not fleeing|      False|             Unarmed|\n",
      "|            shot|toy weapon|32.0|     M|   White|   CA|                   True|      attack|Not fleeing|      False|Other unusual obj...|\n",
      "|            shot|  nail gun|39.0|     M|Hispanic|   CO|                  False|      attack|Not fleeing|      False|    Piercing objects|\n",
      "+----------------+----------+----+------+--------+-----+-----------------------+------------+-----------+-----------+--------------------+\n",
      "only showing top 5 rows\n",
      "\n"
     ]
    }
   ],
   "source": [
    "recsys_df.show(5)"
   ]
  },
  {
   "cell_type": "markdown",
   "metadata": {
    "id": "ZqKlg9cTBXmF"
   },
   "source": [
    "# Task I.1: Exploratory data analysis \n",
    " \n",
    "\n",
    "•\ttelling its number of rows and columns, \n",
    "\n",
    "•\tdoing the data cleaning (missing values or duplicated records) if necessary \n"
   ]
  },
  {
   "cell_type": "code",
   "execution_count": null,
   "metadata": {
    "id": "qCqPs8GWBVrv"
   },
   "outputs": [],
   "source": []
  },
  {
   "cell_type": "code",
   "execution_count": null,
   "metadata": {
    "colab": {
     "base_uri": "https://localhost:8080/",
     "height": 224
    },
    "id": "MtaoQThCKtwS",
    "outputId": "979e92a3-5856-4456-8ff9-347b93e90217"
   },
   "outputs": [
    {
     "name": "stdout",
     "output_type": "stream",
     "text": [
      "+----------------+----------+----+------+--------+-----+-----------------------+------------+-----------+-----------+--------------------+-----------------+---------------------+-----------------------------+-------------------+----------+----------+------------+-----------+------------------+-----------+--------------------+--------------------+\n",
      "| manner_of_death|     armed| age|gender|    race|state|signs_of_mental_illness|threat_level|       flee|body_camera|       arms_category|body_camera_index|manner_of_death_index|signs_of_mental_illness_index|arms_category_index|race_index|flee_index|gender_index|armed_index|threat_level_index|state_index|            features|              scaled|\n",
      "+----------------+----------+----+------+--------+-----+-----------------------+------------+-----------+-----------+--------------------+-----------------+---------------------+-----------------------------+-------------------+----------+----------+------------+-----------+------------------+-----------+--------------------+--------------------+\n",
      "|            shot|       gun|53.0|     M|   Asian|   WA|                   True|      attack|Not fleeing|      False|                Guns|              0.0|                  0.0|                          1.0|                0.0|       3.0|       0.0|         0.0|        0.0|               0.0|        9.0| (9,[3,4],[9.0,1.0])|[0.0,0.0,0.0,0.18...|\n",
      "|            shot|       gun|47.0|     M|   White|   OR|                  False|      attack|Not fleeing|      False|                Guns|              0.0|                  0.0|                          0.0|                0.0|       0.0|       0.0|         0.0|        0.0|               0.0|       25.0|      (9,[3],[25.0])|[0.0,0.0,0.0,0.5,...|\n",
      "|shot and Tasered|   unarmed|23.0|     M|Hispanic|   KS|                  False|       other|Not fleeing|      False|             Unarmed|              0.0|                  1.0|                          0.0|                3.0|       2.0|       0.0|         0.0|        3.0|               1.0|       32.0|[1.0,3.0,0.0,32.0...|[1.0,0.0340909090...|\n",
      "|            shot|toy weapon|32.0|     M|   White|   CA|                   True|      attack|Not fleeing|      False|Other unusual obj...|              0.0|                  0.0|                          1.0|                4.0|       0.0|       0.0|         0.0|        4.0|               0.0|        0.0|(9,[1,4,8],[4.0,1...|[0.0,0.0454545454...|\n",
      "|            shot|  nail gun|39.0|     M|Hispanic|   CO|                  False|      attack|Not fleeing|      False|    Piercing objects|              0.0|                  0.0|                          0.0|                8.0|       2.0|       0.0|         0.0|       77.0|               0.0|        4.0|(9,[1,3,8],[77.0,...|[0.0,0.875,0.0,0....|\n",
      "+----------------+----------+----+------+--------+-----+-----------------------+------------+-----------+-----------+--------------------+-----------------+---------------------+-----------------------------+-------------------+----------+----------+------------+-----------+------------------+-----------+--------------------+--------------------+\n",
      "only showing top 5 rows\n",
      "\n"
     ]
    }
   ],
   "source": [
    "# converting categorical data to integer\n",
    "\n",
    "indexers = [StringIndexer(inputCol=column, outputCol=column+\"_index\") for column in list(set(recsys_df.columns)-set(['age'])) ]\n",
    "assembler = VectorAssembler(inputCols=['manner_of_death_index', 'armed_index', 'gender_index', 'state_index', 'signs_of_mental_illness_index', 'threat_level_index', 'flee_index', 'body_camera_index', 'arms_category_index'], outputCol='features')\n",
    "scaler = MinMaxScaler(inputCol='features', outputCol='scaled')\n",
    "data_pipeline = Pipeline().setStages(indexers +[assembler, scaler])\n",
    "data = data_pipeline.fit(recsys_df).transform(recsys_df)\n",
    "\n",
    "data.show(5)"
   ]
  },
  {
   "cell_type": "markdown",
   "metadata": {
    "id": "ribh2Fk_9syR"
   },
   "source": [
    "##GroupB\n",
    "###Recommendation engine\n",
    "•\tModel training and predictions \n",
    "\n",
    "•\tModel evaluation using MSE"
   ]
  },
  {
   "cell_type": "code",
   "execution_count": null,
   "metadata": {
    "id": "4pclUD4RYrJp"
   },
   "outputs": [],
   "source": [
    "# train and test dataset split\n",
    "train, test = data.randomSplit([0.7, 0.3])"
   ]
  },
  {
   "cell_type": "code",
   "execution_count": null,
   "metadata": {
    "id": "foMIqgTbtM1q"
   },
   "outputs": [],
   "source": [
    "# Recommender System\n",
    "\n",
    "als_rec = ALS(userCol='race_index', itemCol='state_index', ratingCol='manner_of_death_index')\n",
    "rec_model = als_rec.fit(train)"
   ]
  },
  {
   "cell_type": "code",
   "execution_count": null,
   "metadata": {
    "id": "SWui3tqMzxhe"
   },
   "outputs": [],
   "source": [
    "rec_predict = rec_model.transform(test)\n",
    "# rec_predict.show(3)"
   ]
  },
  {
   "cell_type": "code",
   "execution_count": null,
   "metadata": {
    "colab": {
     "base_uri": "https://localhost:8080/",
     "height": 34
    },
    "id": "Q1lgqj-jvoPO",
    "outputId": "d60054a4-9b78-46d0-9212-4fcf07fd8f43"
   },
   "outputs": [
    {
     "data": {
      "text/plain": [
       "1.650200266889782"
      ]
     },
     "execution_count": 130,
     "metadata": {
      "tags": []
     },
     "output_type": "execute_result"
    }
   ],
   "source": [
    "# Recommender System Evaluation\n",
    "evaluator = RegressionEvaluator(metricName='mse', labelCol='race_index', predictionCol='prediction')\n",
    "evaluator.evaluate(rec_predict)"
   ]
  },
  {
   "cell_type": "markdown",
   "metadata": {
    "id": "FHs5GB7E955w"
   },
   "source": [
    "# section C\n",
    "### Classification  \n",
    "\n",
    "•\tLogistic Regression model training \n",
    "\n",
    "•\tModel evaluation "
   ]
  },
  {
   "cell_type": "code",
   "execution_count": null,
   "metadata": {
    "id": "G_k00oJ3UUoO"
   },
   "outputs": [],
   "source": [
    "# Logistic Regression\n",
    "logreg_clf = LogisticRegression(featuresCol = 'features', labelCol='race_index')\n",
    "model = logreg_clf.fit(train)"
   ]
  },
  {
   "cell_type": "code",
   "execution_count": null,
   "metadata": {
    "id": "G5ycT8mebczs"
   },
   "outputs": [],
   "source": [
    "logreg_predict = model.transform(test)"
   ]
  },
  {
   "cell_type": "code",
   "execution_count": null,
   "metadata": {
    "colab": {
     "base_uri": "https://localhost:8080/",
     "height": 34
    },
    "id": "MZCZf-txYQhV",
    "outputId": "2d0a17ed-966c-4ded-a7f7-2b5bea6a34cd"
   },
   "outputs": [
    {
     "data": {
      "text/plain": [
       "0.40792297694056273"
      ]
     },
     "execution_count": 133,
     "metadata": {
      "tags": []
     },
     "output_type": "execute_result"
    }
   ],
   "source": [
    "# Logistic Regression Evaluation\n",
    "evaluator = MulticlassClassificationEvaluator(labelCol='race_index', predictionCol=\"prediction\")\n",
    "evaluator.evaluate(logreg_predict)"
   ]
  },
  {
   "cell_type": "code",
   "execution_count": null,
   "metadata": {
    "id": "k3SdcfkfZhym"
   },
   "outputs": [],
   "source": []
  }
 ],
 "metadata": {
  "colab": {
   "collapsed_sections": [],
   "name": "Shooting.ipynb",
   "provenance": []
  },
  "kernelspec": {
   "display_name": "Python 3",
   "language": "python",
   "name": "python3"
  },
  "language_info": {
   "codemirror_mode": {
    "name": "ipython",
    "version": 3
   },
   "file_extension": ".py",
   "mimetype": "text/x-python",
   "name": "python",
   "nbconvert_exporter": "python",
   "pygments_lexer": "ipython3",
   "version": "3.8.8"
  }
 },
 "nbformat": 4,
 "nbformat_minor": 1
}
